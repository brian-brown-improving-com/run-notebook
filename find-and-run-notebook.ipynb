{
 "cells": [
  {
   "cell_type": "code",
   "execution_count": 0,
   "metadata": {
    "application/vnd.databricks.v1+cell": {
     "cellMetadata": {
      "byteLimit": 2048000,
      "rowLimit": 10000
     },
     "inputWidgets": {},
     "nuid": "d69e38ea-7280-4276-a47d-a966c0f06afc",
     "showTitle": false,
     "title": ""
    }
   },
   "outputs": [],
   "source": [
    "dbutils.notebook.run(\n",
    "    #\"MyMainNotebook\", # SUCCESSFULLY runs a hello-world notebook from the GitHub repo root\n",

    "    #\"/Workspace/Users/realadmin@brianchristopherbrownhotmai.onmicrosoft.com/hello-world\",\n",
    "    #\"/Users/realadmin@brianchristopherbrownhotmai.onmicrosoft.com/hello-world\",\n",
    "    #\"/Users/realadmin@brianchristopherbrownhotmai.onmicrosoft.com/hello-world.ipynb\",\n",
    "    \"../realadmin@brianchristopherbrownhotmai.onmicrosoft.com/hello-world\",

    "    #\"/Workspace/Repos/deploy-from-github-to-model-serving/deploy-from-github-to-model-serving/deploy-from-github-to-model-serving/deploy-from-github-to-model-serving/deploy-from-github-to-model-serving\", # runs the notebook from a legacy repo on Databricks\n",
    "    #\"Workspace/Repos/deploy-from-github-to-model-serving/deploy-from-github-to-model-serving/deploy-from-github-to-model-serving/deploy-from-github-to-model-serving\",\n",
    "    timeout_seconds=1800 # 30 minutes\n",
    "    )"
   ]
  }
 ],
 "metadata": {
  "application/vnd.databricks.v1+notebook": {
   "dashboards": [],
   "environmentMetadata": null,
   "language": "python",
   "notebookMetadata": {
    "pythonIndentUnit": 4
   },
   "notebookName": "find-and-run-notebook",
   "widgets": {}
  }
 },
 "nbformat": 4,
 "nbformat_minor": 0
}
