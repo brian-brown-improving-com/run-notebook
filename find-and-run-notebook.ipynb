{
 "cells": [
  {
   "cell_type": "code",
   "execution_count": 0,
   "metadata": {
    "application/vnd.databricks.v1+cell": {
     "cellMetadata": {
      "byteLimit": 2048000,
      "rowLimit": 10000
     },
     "inputWidgets": {},
     "nuid": "d69e38ea-7280-4276-a47d-a966c0f06afc",
     "showTitle": false,
     "title": ""
    }
   },
   "outputs": [],
   "source": [
    "dbutils.notebook.run(\n",
    "    #\"machine-learning-model-deployment-1.0.3/04 - Real-time Deployment/4.1 - Real-time Deployment with Model Serving - BCB\",\n",
    "    \"../realadmin@brianchristopherbrownhotmai.onmicrosoft.com/hello-world\",\n",
    "    #\"hello-world\",\n",
    "    timeout_seconds=1200 # 20 minutes\n",
    "    )"
   ]
  }
 ],
 "metadata": {
  "application/vnd.databricks.v1+notebook": {
   "dashboards": [],
   "environmentMetadata": null,
   "language": "python",
   "notebookMetadata": {
    "pythonIndentUnit": 4
   },
   "notebookName": "find-and-run-notebook",
   "widgets": {}
  }
 },
 "nbformat": 4,
 "nbformat_minor": 0
}
